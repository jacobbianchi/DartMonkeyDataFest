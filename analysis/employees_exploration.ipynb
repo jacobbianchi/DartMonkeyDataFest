{
 "cells": [
  {
   "cell_type": "code",
   "execution_count": 1,
   "metadata": {},
   "outputs": [],
   "source": [
    "import pandas as pd\n",
    "import numpy as np"
   ]
  },
  {
   "cell_type": "code",
   "execution_count": 2,
   "metadata": {},
   "outputs": [
    {
     "name": "stdout",
     "output_type": "stream",
     "text": [
      "                Industry Count  Percentage (%)\n",
      "Technology                  61           38.36\n",
      "Legal Services              54           33.96\n",
      "Healthcare                  17           10.69\n",
      "Finance                     15            9.43\n",
      "Government                   9            5.66\n",
      "Retail                       3            1.89\n"
     ]
    }
   ],
   "source": [
    "# Load the CSV file into a DataFrame\n",
    "file_path = '/Users/aryan/Desktop/Desktop/Datafest/DartMonkeyDataFest/external_data/employee_growth/employees.csv'  # Replace with your actual file path\n",
    "employees_df = pd.read_csv(file_path)\n",
    "\n",
    "# Drop rows with missing industries (optional based on your data preference)\n",
    "employees_df.dropna(subset=['predicted_industry'], inplace=True)\n",
    "\n",
    "# Count the number of people in each industry\n",
    "industry_counts = employees_df['predicted_industry'].value_counts()\n",
    "\n",
    "# Calculate the percentage of each industry\n",
    "industry_percentages = (industry_counts / industry_counts.sum()) * 100\n",
    "\n",
    "# Create a DataFrame for better readability\n",
    "industry_summary = pd.DataFrame({\n",
    "    'Industry Count': industry_counts,\n",
    "    'Percentage (%)': industry_percentages.round(2)\n",
    "})\n",
    "\n",
    "# Display the result\n",
    "print(industry_summary)\n"
   ]
  }
 ],
 "metadata": {
  "kernelspec": {
   "display_name": "Python 3",
   "language": "python",
   "name": "python3"
  },
  "language_info": {
   "codemirror_mode": {
    "name": "ipython",
    "version": 3
   },
   "file_extension": ".py",
   "mimetype": "text/x-python",
   "name": "python",
   "nbconvert_exporter": "python",
   "pygments_lexer": "ipython3",
   "version": "3.11.2"
  },
  "orig_nbformat": 4
 },
 "nbformat": 4,
 "nbformat_minor": 2
}
